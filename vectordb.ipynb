{
 "cells": [
  {
   "cell_type": "code",
   "execution_count": 5,
   "id": "d5644a89",
   "metadata": {},
   "outputs": [
    {
     "data": {
      "text/plain": [
       "True"
      ]
     },
     "execution_count": 5,
     "metadata": {},
     "output_type": "execute_result"
    }
   ],
   "source": [
    "import os\n",
    "from dotenv import load_dotenv\n",
    "from PyPDF2 import PdfReader\n",
    "\n",
    "load_dotenv()"
   ]
  },
  {
   "cell_type": "code",
   "execution_count": 6,
   "id": "dec8704a",
   "metadata": {},
   "outputs": [
    {
     "name": "stdout",
     "output_type": "stream",
     "text": [
      "Connected to Astra DB: []\n"
     ]
    }
   ],
   "source": [
    "from astrapy import DataAPIClient\n",
    "\n",
    "application_token = os.getenv(\"ASTRA_DB_APPLICATION_TOKEN\")\n",
    "astra_db_id = os.getenv(\"ASTRA_DB_ID\")\n",
    "astra_db_api_endpoint = os.getenv(\"ASTRA_DB_API_ENDPOINT\")\n",
    "my_client = DataAPIClient(application_token)\n",
    "\n",
    "my_db = my_client.get_database(token=application_token, api_endpoint=str(astra_db_api_endpoint))\n",
    "\n",
    "print(f\"Connected to Astra DB: {my_db.list_collection_names()}\")\n",
    "\n",
    "pdfreader = PdfReader(\"data/Ch 01 SQC 01 SA 220.pdf\")\n",
    "from typing_extensions import Concatenate\n",
    "# read text from pdf\n",
    "raw_text = ''\n",
    "for i, page in enumerate(pdfreader.pages):\n",
    "    content = page.extract_text()\n",
    "    if content:\n",
    "        raw_text += content"
   ]
  },
  {
   "cell_type": "code",
   "execution_count": 7,
   "id": "f60fd13b",
   "metadata": {},
   "outputs": [
    {
     "name": "stderr",
     "output_type": "stream",
     "text": [
      "C:\\Users\\satpu\\AppData\\Local\\Temp\\ipykernel_4976\\3435097645.py:6: LangChainDeprecationWarning: The class `OpenAIEmbeddings` was deprecated in LangChain 0.0.9 and will be removed in 1.0. An updated version of the class exists in the :class:`~langchain-openai package and should be used instead. To use it run `pip install -U :class:`~langchain-openai` and import as `from :class:`~langchain_openai import OpenAIEmbeddings``.\n",
      "  embedding = OpenAIEmbeddings(model=\"text-embedding-3-large\",openai_api_key=OPENAI_API_KEY)\n",
      "Created a chunk of size 6203, which is longer than the specified 600\n"
     ]
    },
    {
     "data": {
      "text/plain": [
       "[\"LetChapterSaSQC.020IntroductionAuditQuality.EtoSoc.060⑦AuditQuality-Walk-systematicallyasper·LegalRequirement(LR)·RegulatoryReg(RR)⊥Report·Raf&Te c h n i c a l(PTS)standards->Appropriateingivencircumstances·Reliable·PlopelForm③2standardstoensurequality--SQC·SA220①SQC1-FormaintainingqualityofallAssurance&RelatedEngagementsJuFocuson6ElementsLE-AnyaHeman⊥-LeadershipResponsibilitiesE-EthicalRequirement&IndependenceA-Acceptance&ContinuanceH->HumanResourceE-EngagementPerformancem->Monitoring↓Policies&procedurestoimplementabove6elementsiscollectivelycalledSystemofQualityofContral↓ItisfarallaswanceIrelatedassignmentsatFirmlevel,henceitiscalledFirmlevelsystemofQualityCentral⑪SA220-AuditofHistoricalInformationisthemostimportantalignmentToenwequalityofadaWehaveSazzoInfo)↓ImplementationofFirmlevelSystemofQualityCortealatEngagementlevelSac.080LeadershipResponsibilitiesfarSystemofqualitycontrol①Culture-Firmspolicies&proceduresshouldensurethatfirm'scultureshouldgivehighestimportancetoestablishing&implementingSystemofqualitycontrol②Responsibilities->Ultimate&Resources:Responsibility->CEO/ManagingPastels·operational-DelegateResponsibility↓PersonswithAbility/ExplAuthority·Resource-SufficientnumberofEmptoDevelopedDocument/UpdateSORC③Inclusion-Importancetosoundqualityoverrevenuedrefit·BusinessStrategy·ManagersRoles&Responsibilities·PerformanceEvaluation·Promotion·CompensationAmbutPoints·CultuleWheneverquestion·Responsibilitiesfocuseson&Resourcesleader/Revenue·Inclusions3ProfitseleSQ6.100EthicalRequirements&Independence⑰EthicalRequirements·Policies&proceduresshouldbedeveloped,documentedIcommunicatedfarimplementationof5FundamentalEthicalMinciplesashercodeofEthics.[OfficeofCBI]->ReferProfethicsChapter·Implementation--Leadersshouldinspine·Training·Monitoringcompliance·DealingWithNonCompliance③Independence·Requirement-Allassurance-EthicalRequiremakservices&Independence-OtherRelatedAssignments->EthicalRequirements·Policies&proceduresforImplementatioofIndependence.Itshouldcore-IdentifyingThreatstoIndependence-Evaluate->Appropriate-Eliminate/SegundAction1withdraw·Implementationdi-Comunicationmechanismwithengagementpastness,personnelfarthreatstoindependence-AnnualwrittenconfirmationbyeveryoneaboutcomplianceofIndependenceRequirementsAms atPoints⑰EricalRequirements-P&P-5minciples⊥Implementation⑬Independence-Requirement⊥PRP - IE/A⊥Implementation·Mechanism·ARCSEC.120AddressingFamiliaritythreat⑦FamiliarityThreat·circumstanceswhichcreatesympathytowardsclient·Focusonthreatwhichcrisesduetolongassociationofsameservicepersonnelworksonsameassignmentovermanyyears⑬Safeguard·DependingonNatureofEngagement&PublicInterestInvolved·2Types->-Rotationafterspecificedperiod-Reviews·PeerReview·ERCR·AuditofListedEntity-MandatoryRotationCriteriaoffirm,notexceeding<yearsNoRotationifauditedissoleactiones.-PeerReviewMandatory-EQCRMandatalyAmutPoints⑦FamilarityThreat⑪SafeguardsDepend⊥TypeentityS&C.140Acceptance&Continuance⑰Applicability·FirmshouldhavepoliciesIfproceduresfaracceptance&continuance·Acceptingnewclient/Acceptingnewengagementfromexistingclient/continuingrecurringengagementsofexistingclients·Theseprocedureincludecollectinginformationaboutcertainfactals⑬Factals-ClientRelated·Integrityofpromoters&Keymatpersonnel-AuditalRelated·Competence->knowledgedskills·capability-Time,Team&Equipments·Ethical d-AbilitytocomplyIndependenceWithEthical&IndepenceRequiremat-SignificantMothers->SignificantmathersalisinginMeviousyearandcurrentyearwhichgivemoreclarityaboutabovefactors②Documentation↓·Issues·Resolve3->Ensuresaccountability&TranspelencyAmitPoints-Applicability-Factors-DocumentationPE.160AssessingClient'sIntegrity.AuditalshouldevaluatefollowingfactorsShortcut-SARKiIntegrityS-scope&Legality·Limitationofscope·IllegalActivitiesA->Attitude·Accounting->ICS/AKcStandards·LowFeesfarEngagementReReasons·Non-reappointmentofoutgoingaudites·AppointmentofIncomingAuditalI-Identing&Operations·IdentityofPromoters,Krap,RelatedParties·operations->Governance/BusinessPracticesUnderstandingimprovesoverperiodoftime.SQ6.180keyconsiderationwhiledeterminingCompetence&CapabilityFollowingfactorsshouldbeconsideredShortcut-ReachDECKR-RegulationsWhetherCaFirmhasadequateknowledgeofapplicableLR/RR/PTSfurparticularengagement.DeDeadlineAbilitytocompleteengagementingivendeadlinewithMopequalityasperclient'sexpectationEsExperts·Availabilityofexpertsforcomplex&technicalissuesCeCapabilityofResources·SufficientResources·Competence-knowledge Iskills·Capability-Time,Team&Equipmentsu-Knowledge·Industry/ApplicableFRFSQC-200GuidelinesfarResolvingConflictofInterest②⑰ConflictofInterest·Professional&Personalsoles&responsibilitiesmayconflictwitheachotherEg.HelpinginIPO&Doingaudit·Beforeacceptanceasafteracceptanceitmayarise⑮ApproachShortcut->RAWR-Reporting·ConsideswhetherweshouldreportthisconflictofInteresttoanypersonasauthorityA-AppropriateDecisionmaking·Collectallselevantinformation,evaluatethem·Seeavailableoptionandselectappropriateone.W-withdeawl·IfitsnotpossibletomanageconflictofInterestthenthinkaboutWithdeawfromengagementasclientrelationshipS2c.220GuidelinesforwithdrawShortcuteInpracticallifeflowDiscuss->.AppropriateActions-mat/towe↓⊥·Withdrawl-MyH/TCWGfrReasonsReporting->ReportingtoauthoritiesasweLR/RR/PTS↓FocusonRessonsDocument>Issues/Discussions/ConclusionsSQC.240HumanResourceManagement⑦Policies&ProceduresThereshouldbepolicies&mocedurestoensuresufficientnumberofemployees,whoarecomplent,capability&ethical③HRIssuesCoverageRecruitment/Training/ReformanceEvaluation/ProfessionalDevelopment/casesDevelopment(promotions)/CompensationS&C.260EngagementPartner&EngagementTeam①EngagementPartner(EP)·PersonwhoonbehalfoffirmperformsIreportsonengagement·policies&mocedures-Selection->Competence&capability-Roles&Responsibilities-Authority-Communicationtoclientmet/Two⑬EngagementTeam(ET)-Policies&Rocedure·selection·Training②PaformanceEvaluation-Policies&Procedures·PerformanceEvaluation·ProfessionalDevelopment·CasesDevelopmentdEP&ETSQC.280EngagementPerformance&consultation⑰-stepsDirection(Brief)/Training/Supevision/consultation)Review⑬Consultation·consultantstheyonlygiveadvisorytoteamwhileexpertsparfumactivitiesforteam·Consultantshouldhaveappropriateknowledge,swill,experienceaboutcomplicated,technicalmathers.\",\n",
       " \"·Internalwithinthefirmasoutsidethefirm·Documentation->Issues/AdvisoryCompliance/ConclusionsS&C.300EngagementQualityContralReview①purposedExtent·PurposeofEDCRistoevaluateSignificantJudgementsmadeduringcourseofauditlikePlanning,execution,reporting·Extentofreviewdependson-Complexitiesinvolvedinengagement-Potential&AcceptableAuchtRisk+chancesofinappropriateOpinion⑬Applicability·ListedEnties-mandatory·FagathesEnties-FirmwillhavetoestablishCriteriaCEyBasedonCapital,Revenue,Pryitete)①Responsibility·EventhoughreviewisperformedresponsibilityofEPdoesn'tsecuce.SQC.320ResponsibilityofEOCRReviewer↓·ForallapplicableEngagement·AdditionalfarlistedEngagement↓coveredinSA220indetailSac.34owhocanbecomeERIRrevicues①whocanbecomesevicwer·QualifiedeMemberofICAI(CA)·Objective(unbiased)->shouldnotbeinvolvedindecisionmakingasperformanceofaudit(NonTeamMember)·WithinFirmasoutsideFirm·PasterlevelasEmployeeofappropriatelevel⑬Consultation·EPcantakeconsultationfromfromEQCRReviewer.Butitshouldbelimitedandnotaffecthisobjectivity.·Ifconsultationbecomessignificant&maintainingobjectivityisdifficultthenappointonemoreappropriatepersonasconsultantasreplaceEQCRreviewedwithsuchperson·Firmshouldhaveplpforreplacement/substitutionofReviewsSQC.345EsentialDocumentationbyEQCRReviewer⑬⑦Compliance.P&PwithrespecttoESCRwereproperlyfallowed⑬SignificantJudgements·Allsignificantjudgementsofauditprocessofthisconclusionswereevaluated·Statementthat-Reviewerisnotawaeaboutanyunresolvedmattersasperinformationreceivedduringreview.⑥CompictionEQCRReviewshouldbecompletedbeforesigning⊥2520300DifferenceofOpinion(DOP)⑪BetweenwhomDopcancrisewithinteammembers,teammembers&Consultant,Engamentpartner&EQCRreviewer③Apmoach①ResolutionMocedures·ItshouldberesolvedasperfirmspapfarresolvingDop.Egsystem alicdiscussions,helpofserious!consultationwithanotherCAarfirmasprofessionalbodyasregulatorybody/Pultrelsvotingele⑲Reporting·Don'tissuereporttillDopareresolvedS&(380EngagementDocumentation②AssemblyofEngagementFiles·shouldbedoneontimelymannertoensurehighqualitydocuments·FarauditengagementitshouldbewithinGoDaysfromdateofaudital'sreport.&-·Farotherengagementslikereview,Compilationeeitshouldbeasperfilm'spolicies&procedures②Storagesecurity·Generallynochangesunlesstherealspecialcircumstances(Integrity)·Itshouldbestoredinsuchmannertoensuresafety,secured,easilyaccessible&retrivable③RetentionPeriod·Followlegalrequirement,iflawissilentthen,FaraudititisIyearsfromdateofauchital'sreportaslatesifthereisgroupaudital'sreport.ForotherengagementsitshouldbeasperfirmsP&P(SystemofavalityContral)⑪ownership·CA/CAFirmisownesofdocuments·Noobligationtosharewithanyone.·SharingisdescretionofCA.Itcanbedonewithclientbutensureitislimitedtomaintainobjectivity&independenceofengagementNORT(Ifmultiplerepollsonsameclienteachreportwillbetreatedasengagement)Sac.400Monitoring①meaning·Itmeansevaluatingdesign(steps)ofSystemofqualitycentralanditsimplementationbyteamtoensureeffectivenessofengagementsinachievingqualityItisrequiredbecausechangeskeephappeninginLR,RR,PTSwhichneedschangesinsystemofqualitycontral③methodsofMonitoring·Ongoingperiodicactivitieslikeperiodicreports·mayappointexpectforseparateevaluation·studyingcomplaints&allegationswithinasoutsidefirmregardinginfectionessofso②ActiononDeficiencyasNonCompliance·MonitoringmaysevealdeficiencyindesignofsozCasitmayrevealnuncomplianceofsoacbyteammembers.·Applopiateactionshouldbefallentoresolveabovematters①Responsibility·Firmshouldestablishstandardmonitoringprocess·Theyshouldappointpartiesasqualifiedpason(CA)tosupervisemonitoringprocess.AmbutPoints-meaning(+why)->methods->Actions-ResponsibilitySec.420Complaints&Allegations(CAA)⑰meaning&sources·peoplemaynotbesatisfiedwithsocaasitscompliancebyteamsotheymaycomplaintasputallegations·Itcancomefromemployees,clients,thirdparties⑬steps·FirmshouldestablishsafechannelsfarsendingCAAwithfearofsetaliation·AfterreceivingCAAitshouldbeinvestigated.Investigationshouldbebynon-engaged(nonteammember)ofheshouldbeexperiencedPuntnesshouldbeasmesoac.CantakehelpoflegeCounsel.·Afteridentifyingdeficiencesinsogeasnon-complianceofsoasappropriateactionlikechangingsocasexplaining/punishingconcavedpersonsshouldbetaken·Document->CAA&Response②SmallFilmsTheycanengageexternalindividualsasfirmsforinvestigationAmbutPoints·meaning&sourcesteps-channel/Investigation/Action/Document·SmallFilmSA220--SA 220.020IntrotoSA220-sameasSQCIntroSA220.000objectivesofSazz0IsSameasS&CIntroSA220.060LeadastipResponsibilitiesforAuditEngagement⑪ResponsibilitiesofEngagementpastnes(practicallifelogicalflow)EmphasisonQuality(Non-Negotiable)/setexamples,inspiredencouragedopencommunicationenvironmenttolaiseconcernswithoutanyfearlFollowsoce&askteammemberstodoit③UltimateGoal/objectiveWall-IR,ER,PTSReport->Appropriate(Reliable)SA220.080RelevantEthicalRequirement⊥sameasSACEthicalRequirements&Independence↓TakeaboutimplementationofitsEPresponsibility.SA220.100Acceptance&Continuance⊥sameasS&CA&CSA220.140EngagementPerformance⊥sameasS&CEngagementPerformanceSA220.160EngagementQualityContralReview(EGCR)①ResponsibilityofEngPartner①AppointmentofappropriateERCRreviewer⑪DiscusssignificantmathersidentifiedduringauditaridentifiedduringEGCR-FocusonsignificantjudgementsappliedinSignificantmatters⑮Don'tsign(Date)reporttillERCRiscompletedAmsutpoints-Appoint-Discuss-complete⑬ResponsibilityofEGCRreviewer⑦Discuss·DiscusssignificantmothersidentifiedduringauchtasESCR.·FocusonSignificantjudgementsappliedinsuchmothers.·seedocumentsexplainingwhatauditprocedureswereperformed&conclusionswerereachedfalsignificantjudgements⑪Review·ReviewFST&AuditReports·EvaluateWhetherFS5presentsMoperfinancialperformancedposition·Evaluatehowteamseachedconclusionaboutauditreportandisitreliable&appropriateAmnutPoints-DiscussSigMathes->Review②AdditionalresponsibilitiesofReviewedinlistedEntitiesShortcut-CIDGSICD--IsIndependenceConsidercarefullywhetherengagementteam'sevaluationofindependencerequirementsisappropriateC->ConsultationWhetherMopelconsultationwereconductedfardifficult,contentiousadifferenceofOpinionD-DocumentsWhetherdocumentswithrespecttosignificantjudgementsarereliableIreflectactualwallperformedandconclusionreached.Nole-SignificantMather->SignificantRisk/SignificantDifficulty (SignificantDeficiency/materialmisstalement/KAM1modifications.·ApplicabilityissameasSQCSA220.180DifferenceofOpinionIsameasSacSA220.200monitoringAupointsofsec-monitoringallselevant↓Additionalpoints↓EngagementPartnesShouldperodicallydofollowing·Resultsofmonitoringprocess&itsimpactonauditengagement·Reviewlatestinformationcirculatedbyfirm/NetworkfirmsSA220.220DocumentationJ·DocumentabouteachelementinShort·statementbyEGCRSevicwelAsperdiscussions&reviewnotawareaboutanyunresolvedmatheswhichquestionssignificantjudgementsofauditprocessSA220.240SQL SSA220S&C1SA220ApplicabilityAllassulanceAudit&relatedEngagementengagementsPurposeEstablishingImplementationSGGCofsocResponsibilityCEOdmanagingengagementPartnelPartnelSA220.260MechanismofReviewforQualityinIndiaPeerQualityNFRAReviewReviewReview&Focus/·SOQC·Quality·QualityPurpose·Qualityafallaccounting-services&Audit↓byCAsrelatedAssuranceStandardsEngagement·Compliance②BudyPeerReviewQualityNFRABochReviewconstitutedconstitutedbyBoardICAIconstitutedbyCG↓byCGCouncilmembers↓&Experts&CGNomineesCouncilmembas③Important·unqualified·Recommen·NFRAPointsPeelReviewdationscovers↓Report->Peel-ToCouncilbigentitiesReviewCertificateOfICAIcoured·QualifiedReport-ToMembersundes↓ofICAIRule3NoPeerReviewcertificateEglisted↓FollowupreviewEntities,after6mto1yearBanking,toimmoneInsurancedothels·212BcannotreviewentitiesWhereNERAisapplicable·NFRAmayreferandaskfarreviewofanysuchentiti2-①CoreAuditProcess(Shurt)Brief)⑪InitialPhase->Acceptance&Continuance⊥EngagementLetter⑪planningphase-AuditStrategy⊥AuditPlanning⊥FocusonRiskAssesmentProceduresscollectinfoobtainunderstanding)↓·Complexities·Judgement·Pressure⑪Executionis-FurtherAuditProcedures·TestofControls-FocusonICS·SubstantiveProcedures⊥FocusonTBD->AndyticalProcedures\"]"
      ]
     },
     "execution_count": 7,
     "metadata": {},
     "output_type": "execute_result"
    }
   ],
   "source": [
    "\n",
    "from langchain.text_splitter import CharacterTextSplitter\n",
    "import os\n",
    "from langchain_community.embeddings.openai import OpenAIEmbeddings\n",
    "\n",
    "OPENAI_API_KEY = os.getenv(\"OPENAI_API_KEY\")\n",
    "embedding = OpenAIEmbeddings(model=\"text-embedding-3-large\",openai_api_key=OPENAI_API_KEY)\n",
    "\n",
    "# We need to split the text using Character Text Split such that it sshould not increse token size\n",
    "text_splitter = CharacterTextSplitter(\n",
    "    separator = \"\\n\",\n",
    "    chunk_size = 600,\n",
    "    chunk_overlap  = 150,\n",
    "    length_function = len,\n",
    ")\n",
    "chunks = text_splitter.split_text(raw_text)\n",
    "chunks[:50]"
   ]
  },
  {
   "cell_type": "code",
   "execution_count": 8,
   "id": "bc402283",
   "metadata": {},
   "outputs": [],
   "source": [
    "# Support for dataset retrieval with Hugging Face\n",
    "from datasets import load_dataset\n",
    "# With CassIO, the engine powering the Astra DB integration in LangChain,\n",
    "# you will also initialize the DB connection:\n",
    "import cassio\n",
    "from langchain.vectorstores.cassandra import Cassandra\n",
    "from langchain.indexes.vectorstore import VectorStoreIndexWrapper\n",
    "\n",
    "application_token = os.getenv(\"ASTRA_DB_APPLICATION_TOKEN\")\n",
    "ASTRA_DB_ID = os.getenv(\"ASTRA_DB_ID\")\n",
    "astra_db_api_endpoint = os.getenv(\"ASTRA_DB_API_ENDPOINT\")\n",
    "ASTRA_DB_REGION=os.getenv(\"ASTRA_DB_REGION\")\n",
    "\n",
    "cassio.init(token=application_token, database_id=ASTRA_DB_ID)\n",
    "embedding = OpenAIEmbeddings(model=\"text-embedding-3-large\",openai_api_key=OPENAI_API_KEY)\n",
    "\n",
    "astra_vector_store = Cassandra(\n",
    "    embedding=embedding,\n",
    "    table_name=\"pdfnotes\",\n",
    "    session=None,\n",
    "    keyspace=None\n",
    ")\n",
    "\n",
    "# astra_vector_store.add_texts(chunks[:50])\n",
    "\n",
    "# print(\"Inserted %i headlines.\" % len(chunks[:50]))\n",
    "\n",
    "# astra_vector_index = VectorStoreIndexWrapper(vectorstore=astra_vector_store)\n"
   ]
  },
  {
   "cell_type": "code",
   "execution_count": null,
   "id": "c2998ec8",
   "metadata": {},
   "outputs": [
    {
     "name": "stdout",
     "output_type": "stream",
     "text": [
      "ANSWER: \"The key considerations while determining Competence & Capability in the context of auditing include the following factors:\n",
      "\n",
      "1. Regulations: Ensuring that the firm has adequate knowledge of applicable legal requirements, regulatory standards, and professional technical standards for the specific engagement.\n",
      "  \n",
      "2. Deadlines: Ability to complete the engagement within the given deadline while maintaining quality as per the client's expectations.\n",
      "   \n",
      "3. Experts: Availability of experts for handling complex and technical issues that may arise during the audit process.\n",
      "  \n",
      "4. Resources: Ensuring that there are sufficient resources in terms of knowledge, skills, time, team, and equipment to carry out the audit effectively.\n",
      "  \n",
      "5. Knowledge: Having industry-specific knowledge and understanding of the applicable financial reporting frameworks.\n",
      "  \n",
      "These factors are crucial in evaluating the competence and capability of the audit team to perform the engagement effectively and deliver high-quality results.\"\n",
      "\n"
     ]
    }
   ],
   "source": [
    "from langchain.llms.openai import OpenAI\n",
    "from langchain.chat_models import ChatOpenAI\n",
    "import tiktoken\n",
    "#llm = OpenAI(openai_api_key=OPENAI_API_KEY)\n",
    "llm = ChatOpenAI(\n",
    "    model=\"gpt-3.5-turbo-16k\",  # <-- Important to avoid 4097 token limit\n",
    "    openai_api_key=OPENAI_API_KEY\n",
    ")\n",
    "\n",
    "query_text = \"Explain me about the key consideration while determining Competence & Capability\"\n",
    "\n",
    "answer = astra_vector_index.query(query_text, llm=llm).strip()\n",
    "print(\"ANSWER: \\\"%s\\\"\\n\" % answer)"
   ]
  }
 ],
 "metadata": {
  "kernelspec": {
   "display_name": "Python 3",
   "language": "python",
   "name": "python3"
  },
  "language_info": {
   "codemirror_mode": {
    "name": "ipython",
    "version": 3
   },
   "file_extension": ".py",
   "mimetype": "text/x-python",
   "name": "python",
   "nbconvert_exporter": "python",
   "pygments_lexer": "ipython3",
   "version": "3.10.16"
  }
 },
 "nbformat": 4,
 "nbformat_minor": 5
}
